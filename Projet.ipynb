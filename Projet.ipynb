{
 "cells": [
  {
   "cell_type": "code",
   "execution_count": 3,
   "id": "83ef2a5e",
   "metadata": {},
   "outputs": [],
   "source": [
    "#ON IMPORTE PLEIN DE PACKAGES\n",
    "import os\n",
    "import tweepy as tw\n",
    "import pandas as pd\n",
    "import datetime\n",
    "\n",
    "import matplotlib.pyplot as plt\n",
    "import seaborn as sns\n",
    "import itertools\n",
    "import collections\n",
    "\n",
    "import nltk\n",
    "from nltk.corpus import stopwords\n",
    "import re\n",
    "import networkx\n",
    "\n",
    "from textblob import TextBlob\n",
    "from textblob_fr import PatternTagger, PatternAnalyzer\n",
    "\n",
    "import six\n",
    "\n",
    "import warnings\n",
    "warnings.filterwarnings(\"ignore\")\n",
    "\n",
    "sns.set(font_scale=1.5)\n",
    "sns.set_style(\"whitegrid\")"
   ]
  },
  {
   "cell_type": "code",
   "execution_count": 6,
   "id": "825e3d3a",
   "metadata": {},
   "outputs": [],
   "source": [
    "#CODES D'ACCES DE NOTRE API\n",
    "consumer_key= 'vKEVNk4bU3SLIyX1St4VFAHxx'\n",
    "consumer_secret= 'Vph1hkE8qi3m6acec8YXSjuYLfNhWJZzr9AEx9N20L8uohl7Km'\n",
    "access_token= '1454759642228215809-fVDHUEShqBaH32XaNmunO5rKulOEQQ'\n",
    "access_token_secret= 'GFytsNLAQUXcGdAc6mldJ8bM2ruVNtDkCZrPMg3weY6ZM'\n",
    "\n",
    "#ON SE CONNECTE A L'API \n",
    "auth = tw.OAuthHandler(consumer_key,consumer_secret)\n",
    "auth.set_access_token(access_token,access_token_secret)\n",
    "\n",
    "#ON CREE L'OBJET API\n",
    "api = tw.API(auth, wait_on_rate_limit=True)\n",
    "\n",
    "#ON DEFINIT LA DATE D'AUJOURD'HUI\n",
    "today = datetime.date.today()\n",
    "yesterday= today - datetime.timedelta(days=1)"
   ]
  },
  {
   "cell_type": "code",
   "execution_count": 63,
   "id": "469e1d17",
   "metadata": {},
   "outputs": [
    {
     "data": {
      "text/plain": [
       "['Using a watch to pay with #Bitcoin in El Salvador 🙌\\n\\nNo phone, no problem.\\n\\n https://t.co/addl3urkeh',\n",
       " '#Bitcoin is hope for #Turkey. The currency has lost a third of its value since March and declined for nine consecut… https://t.co/IaWloYUAvL',\n",
       " 'Today I setup a #BlockstreamSatellite Base Station at the @LaGeoSV Berlin geothermal plant, where the Volcano… https://t.co/7RENWycyGW',\n",
       " \"There's now a #Bitcoin satellite at El Salvador's volcano mine. \\n\\nEarth's energy powering interstellar money 💫 https://t.co/xga5OSBcCT\",\n",
       " 'BREAKING – Banking giant Fidelity approved to launch institutional #Bitcoin services in Canada https://t.co/v4fyfJyI4O',\n",
       " 'This is the truth about #crypto, #Bitcoin, and Congress.\\n \\nBut Congress is trying to regulate it anyway. https://t.co/Yxj5tXr4pE',\n",
       " 'Someone actually tried to steal this #Bitcoin ATM to get the coins out 😂 https://t.co/Jfpql2gP3e',\n",
       " 'Take crypto-currency or #bitcoin for example. \\n\\nIt is important that all democratic nations work together on this a… https://t.co/SJRCqLC8FC',\n",
       " 'Looking at future #Bitcoin volcanoes. El Salvador is spectacular. 🌋🇸🇻 https://t.co/iDGvL1cY4S',\n",
       " 'Is @chivopets being built too fast? 🤔\\n\\n#Bitcoin🐶 https://t.co/ce1T3yxWNJ',\n",
       " '#Bitcoin is powered by hope. https://t.co/b7kivBoCW1',\n",
       " 'Enjoy the ride. #Bitcoin',\n",
       " '40% of all dollars in circulation have been created in the last year.\\n\\nProtect yourself.\\n\\nBuy #Bitcoin',\n",
       " 'NEW: #Bitcoin-focused senator introduces bill to support \"financial freedom and individual sovereignty\" https://t.co/6Jxeyt2wvL',\n",
       " 'A very cool thing about being in the Senate is access to information, anecdotes, &amp; research striped of Big Media sp… https://t.co/u9i5HzorQZ',\n",
       " '“He who wishes to be rich in a day will be hanged in a year.” - Leonardo da Vinci on #Bitcoin',\n",
       " 'PM Lee mentioned #NFT and #bitcoin during this gala dinner 1 min ago. 👍 Photo taken by me. https://t.co/MKiuXFPNqg',\n",
       " '#Bitcoin mining is \"absolutely mind blowing.\" – Jordan Peterson https://t.co/GHlOuPkrIP',\n",
       " '\"We are the capital of Economic Freedom.\" - Ambassador of El Salvador on #Bitcoin https://t.co/qPWaYjxSei',\n",
       " 'How nice to see @Underrated_Dom from @gokhshteinmedia just dropping knowledge along with the rest of the staff. \\U0001f977… https://t.co/SKEWk6awYW',\n",
       " \"When technology gives us a superior way of doing things...we change.\\n\\nEven though it's hard to believe, from our cu… https://t.co/TCFDerdSZT\",\n",
       " '#Bitcoin buys you time, saves you time and is worth your time',\n",
       " 'When the government isn’t doing their homework, what does that mean about the value of your money? \\n\\nBuy #Bitcoin! https://t.co/zM6bxnBDhI',\n",
       " 'I have a big mountain of cash ready to buy 53k $BTC if I get the chance.\\n\\n#Bitcoin https://t.co/lCAOcJjJ9X',\n",
       " 'When Bitcoin dips, I panic.\\n\\nI panic buy more #Bitcoin.',\n",
       " 'Technology and the freedom are more powerful than central banks and control. \\n\\n#Bitcoin',\n",
       " '#Bitcoin will bring \"progress and better opportunities\" to our country. – El Salvador\\'s Minister of Economy 🇸🇻 https://t.co/2WFV6vi4bd',\n",
       " 'Looks like the BJP Govt is under immense pressure on the #BJPBitcoinScam \\n\\nWhy else would they send police officers… https://t.co/SQF1HuYqfL',\n",
       " 'Environmentalist attacks on #Bitcoin are best understood as a strategy by economic, media, and political elites to… https://t.co/vSAji0YGnw',\n",
       " 'Loved ending my week with this little rant about money printing and #Bitcoin on Making Money with @cvpayne! Thanks… https://t.co/4GtdJsg3un',\n",
       " 'Hey @BernieSanders, if the govt wasn’t stealing from the middle class/poor for decades through the inflation tax, y… https://t.co/M7UzUCQ3eD',\n",
       " '\"Our proposal will ensure the U.S. succeeds in nurturing #crypto innovation within its borders while also maintaini… https://t.co/E1cfiw66fC',\n",
       " 'Having stablecoins sitting on the sidelines, earning yield, while waiting to buy dips is such a big advantage in th… https://t.co/TmU0bbH53e',\n",
       " 'Funny that this place is called “dollar” city.\\n\\n#Bitcoin🇸🇻 https://t.co/KqyiqUp6zf',\n",
       " 'Miami Mayor @FrancisSuarez announces on \"First Mover\" that his city will be the first in the U.S. to give a… https://t.co/kfMXwb4KV8',\n",
       " 'A publicly traded #Bitcoin miner @MarathonDH is raising $500 million in a debt offering to acquire bitcoin and bitc… https://t.co/5e3IJYbmb0',\n",
       " 'There is one country on Earth, where there are more people using #Bitcoin wallets than bank accounts.\\n\\nProlly nothi… https://t.co/LRzPhFq3pQ',\n",
       " 'There is one country on Earth, where more people use #Bitcoin wallets than bank accounts. - President of El Salvador https://t.co/UCthbg5PD6',\n",
       " 'Inflation at 6.2% means that if we keep it steady for 10 years, your $100,000 will become $54,800 by then. Compound… https://t.co/VXFSDVd8of',\n",
       " 'The “Operation Bitcoin Coverup” !\\n\\n• Who was stealing  #Bitcoin ?\\n• Who did the stolen Bitcoins go?\\n• Who hacked In… https://t.co/s9PBog80nh',\n",
       " 'Scheduling this tweet to post exactly one year from now.  \\n\\nToday is November 10, 2020. Crypto prices are:\\n\\n🔸… https://t.co/GDwCiIqnFt',\n",
       " '6.2% inflation.  And that’s the number they are telling you!\\n\\n1.48% for the 10 YR treasury\\n\\nThat’s a -4.72% real yi… https://t.co/PSypREDQ7g',\n",
       " 'JUST IN - Latin American real estate market leader, La Haus, is now accepting #Bitcoin https://t.co/YmjHD6IWuX',\n",
       " 'Congolese refugees using #Bitcoin to build a grassroots economy 🧡 https://t.co/zbMx0yUq81',\n",
       " \"Inflation isn't transitory, they are wrong. \\n\\nBuy #Bitcoin\",\n",
       " \"Don't forget they've been changing the inflation gage since the mid- 80's.  \\n\\nWhat we are already seeing today is o… https://t.co/Bdhmc3VEU8\",\n",
       " 'The Fed is not caught off guard by letting inflation run hot, they are distinctly following a scripted playbook:\\n\\n-… https://t.co/qUF6WBKboL',\n",
       " '#Bitcoin hit fresh All-Time high as US 10y real rates hit fresh All-Time low. https://t.co/1I0fleIDE5',\n",
       " '#BITCOIN BREAKOUT! 🤑\\n\\n$70,000 today?',\n",
       " '#BITCOIN BREAKOUT!!! 🚀']"
      ]
     },
     "execution_count": 63,
     "metadata": {},
     "output_type": "execute_result"
    }
   ],
   "source": [
    "#TEST 1 : \n",
    "#ON COLLECTE DES TWEETS FR :\n",
    "nbr=1000\n",
    "search_term = \"#bitcoin\"\n",
    "\n",
    "tweets = tw.Cursor(api.search_tweets,\n",
    "                   q=search_term,\n",
    "                   lang=\"en\",\n",
    "                   since_id=\"2021-11-05\",result_type = \"popular\").items(nbr)\n",
    "\n",
    "all_tweets = [tweet.text for tweet in tweets]\n",
    "\n",
    "all_tweets[:50]"
   ]
  },
  {
   "cell_type": "code",
   "execution_count": 64,
   "id": "edbacb21",
   "metadata": {},
   "outputs": [],
   "source": [
    "#FONCTION POUR ENLEVER URL D'UN TWEET\n",
    "def remove_url(txt):\n",
    "    \"\"\"Replace URLs found in a text string with nothing \n",
    "    (i.e. it will remove the URL from the string).\n",
    "\n",
    "    Parameters\n",
    "    ----------\n",
    "    txt : string\n",
    "        A text string that you want to parse and remove urls.\n",
    "\n",
    "    Returns\n",
    "    -------\n",
    "    The same txt string with url's removed.\n",
    "    \"\"\"\n",
    "    return \" \".join(re.sub(\"([^j0-9A-Za-z \\t])|(\\w+:\\/\\/\\S+)\", \"\", txt).split())"
   ]
  },
  {
   "cell_type": "code",
   "execution_count": 65,
   "id": "a1458a03",
   "metadata": {},
   "outputs": [
    {
     "data": {
      "text/plain": [
       "['using a watch to pay with bitcoin in el salvador no phone no problem',\n",
       " 'bitcoin is hope for turkey the currency has lost a third of its value since march and declined for nine consecut',\n",
       " 'today i setup a blockstreamsatellite base station at the lageosv berlin geothermal plant where the volcano',\n",
       " 'theres now a bitcoin satellite at el salvadors volcano mine earths energy powering interstellar money',\n",
       " 'breaking banking giant fidelity approved to launch institutional bitcoin services in canada',\n",
       " 'this is the truth about crypto bitcoin and congress but congress is trying to regulate it anyway',\n",
       " 'someone actually tried to steal this bitcoin atm to get the coins out',\n",
       " 'take cryptocurrency or bitcoin for example it is important that all democratic nations work together on this a',\n",
       " 'looking at future bitcoin volcanoes el salvador is spectacular',\n",
       " 'is chivopets being built too fast bitcoin',\n",
       " 'bitcoin is powered by hope',\n",
       " 'enjoy the ride bitcoin',\n",
       " '40 of all dollars in circulation have been created in the last yearprotect yourselfbuy bitcoin',\n",
       " 'new bitcoinfocused senator introduces bill to support financial freedom and individual sovereignty',\n",
       " 'a very cool thing about being in the senate is access to information anecdotes amp research striped of big media sp',\n",
       " 'he who wishes to be rich in a day will be hanged in a year leonardo da vinci on bitcoin',\n",
       " 'pm lee mentioned nft and bitcoin during this gala dinner 1 min ago photo taken by me',\n",
       " 'bitcoin mining is absolutely mind blowing jordan peterson',\n",
       " 'we are the capital of economic freedom ambassador of el salvador on bitcoin',\n",
       " 'how nice to see underrateddom from gokhshteinmedia just dropping knowledge along with the rest of the staff',\n",
       " 'when technology gives us a superior way of doing thingswe changeeven though its hard to believe from our cu',\n",
       " 'bitcoin buys you time saves you time and is worth your time',\n",
       " 'when the government isnt doing their homework what does that mean about the value of your money buy bitcoin',\n",
       " 'i have a big mountain of cash ready to buy 53k btc if i get the chancebitcoin',\n",
       " 'when bitcoin dips i panici panic buy more bitcoin',\n",
       " 'technology and the freedom are more powerful than central banks and control bitcoin',\n",
       " 'bitcoin will bring progress and better opportunities to our country el salvadors minister of economy',\n",
       " 'looks like the bjp govt is under immense pressure on the bjpbitcoinscam why else would they send police officers',\n",
       " 'environmentalist attacks on bitcoin are best understood as a strategy by economic media and political elites to',\n",
       " 'loved ending my week with this little rant about money printing and bitcoin on making money with cvpayne thanks',\n",
       " 'hey berniesanders if the govt wasnt stealing from the middle classpoor for decades through the inflation tax y',\n",
       " 'our proposal will ensure the us succeeds in nurturing crypto innovation within its borders while also maintaini',\n",
       " 'having stablecoins sitting on the sidelines earning yield while waiting to buy dips is such a big advantage in th',\n",
       " 'funny that this place is called dollar citybitcoin',\n",
       " 'miami mayor francissuarez announces on first mover that his city will be the first in the us to give a',\n",
       " 'a publicly traded bitcoin miner marathondh is raising 500 million in a debt offering to acquire bitcoin and bitc',\n",
       " 'there is one country on earth where there are more people using bitcoin wallets than bank accountsprolly nothi',\n",
       " 'there is one country on earth where more people use bitcoin wallets than bank accounts president of el salvador',\n",
       " 'inflation at 62 means that if we keep it steady for 10 years your 100000 will become 54800 by then compound',\n",
       " 'the operation bitcoin coverup who was stealing bitcoin who did the stolen bitcoins go who hacked in',\n",
       " 'scheduling this tweet to post exactly one year from now today is november 10 2020 crypto prices are',\n",
       " '62 inflation and thats the number they are telling you148 for the 10 yr treasurythats a 472 real yi',\n",
       " 'just in latin american real estate market leader la haus is now accepting bitcoin',\n",
       " 'congolese refugees using bitcoin to build a grassroots economy',\n",
       " 'inflation isnt transitory they are wrong buy bitcoin',\n",
       " 'dont forget theyve been changing the inflation gage since the mid 80s what we are already seeing today is o',\n",
       " 'the fed is not caught off guard by letting inflation run hot they are distinctly following a scripted playbook',\n",
       " 'bitcoin hit fresh alltime high as us 10y real rates hit fresh alltime low',\n",
       " 'bitcoin breakout 70000 today',\n",
       " 'bitcoin breakout']"
      ]
     },
     "execution_count": 65,
     "metadata": {},
     "output_type": "execute_result"
    }
   ],
   "source": [
    "#ON REPREND LA LISTE EN ENLEVANT LES URLs, LES HASHTAGS, LES @, LES _ ET LES MAJUSCULES\n",
    "all_tweets_no_urls = [remove_url(tweet).replace(\"#\", \"\").replace(\"_\", \" \").replace(\"@\", \" \").lower() for tweet in all_tweets]\n",
    "all_tweets_no_urls[:50]"
   ]
  },
  {
   "cell_type": "code",
   "execution_count": 66,
   "id": "3d0b9716",
   "metadata": {},
   "outputs": [],
   "source": [
    "#PROBLEME 1 : LES ACCENTS DISPARAISSENT\n",
    "#SOLUTION 1: ON TRAVAILLE AVEC LES TWEETS ANGLAIS, SANS ACCENTS\n",
    "#SOLUTION 2: ON TROUVE DANS LE RETURN DE LA FONCTION REMOVE_URL LA COMMANDE QUI ENLEVE LES LETTRES ACCENTUEES\n",
    "#J'ai regardé la documentation de .sub, cherché sur internet, c'est long et ça n'a pas aboutit"
   ]
  },
  {
   "cell_type": "code",
   "execution_count": 67,
   "id": "eedadf28",
   "metadata": {},
   "outputs": [],
   "source": [
    "#TEST 2 : AVEC GOOGLE NLP PACKAGE\n",
    "#ON IMPORTE LES PACKAGES\n",
    "from google.cloud import language_v1\n",
    "from google.cloud.language_v1 import types\n",
    "import os"
   ]
  },
  {
   "cell_type": "code",
   "execution_count": 68,
   "id": "2f2e3935",
   "metadata": {},
   "outputs": [],
   "source": [
    "#ON SE CONNECTE A GOOGLE CLOUD \n",
    "os.environ['GOOGLE_APPLICATION_CREDENTIALS'] = r\"C:\\Users\\Asus\\Desktop\\M2 S1\\Big-Data\\coherent-elf-332016-1c937294d37f.json\"\n",
    "client = language_v1.LanguageServiceClient()"
   ]
  },
  {
   "cell_type": "code",
   "execution_count": 69,
   "id": "785e931e",
   "metadata": {},
   "outputs": [
    {
     "name": "stdout",
     "output_type": "stream",
     "text": [
      "using a watch to pay with bitcoin in el salvador no phone no problem\n",
      "-0.10000000149011612\n",
      "bitcoin is hope for turkey the currency has lost a third of its value since march and declined for nine consecut\n",
      "-0.699999988079071\n",
      "today i setup a blockstreamsatellite base station at the lageosv berlin geothermal plant where the volcano\n",
      "0.0\n",
      "theres now a bitcoin satellite at el salvadors volcano mine earths energy powering interstellar money\n",
      "0.0\n",
      "breaking banking giant fidelity approved to launch institutional bitcoin services in canada\n",
      "0.20000000298023224\n",
      "this is the truth about crypto bitcoin and congress but congress is trying to regulate it anyway\n",
      "-0.30000001192092896\n",
      "someone actually tried to steal this bitcoin atm to get the coins out\n",
      "-0.699999988079071\n",
      "take cryptocurrency or bitcoin for example it is important that all democratic nations work together on this a\n",
      "0.0\n",
      "looking at future bitcoin volcanoes el salvador is spectacular\n",
      "0.8999999761581421\n",
      "is chivopets being built too fast bitcoin\n",
      "-0.20000000298023224\n",
      "bitcoin is powered by hope\n",
      "0.10000000149011612\n",
      "enjoy the ride bitcoin\n",
      "0.8999999761581421\n",
      "40 of all dollars in circulation have been created in the last yearprotect yourselfbuy bitcoin\n",
      "-0.20000000298023224\n",
      "new bitcoinfocused senator introduces bill to support financial freedom and individual sovereignty\n",
      "0.10000000149011612\n",
      "a very cool thing about being in the senate is access to information anecdotes amp research striped of big media sp\n",
      "0.8999999761581421\n",
      "he who wishes to be rich in a day will be hanged in a year leonardo da vinci on bitcoin\n",
      "-0.4000000059604645\n",
      "pm lee mentioned nft and bitcoin during this gala dinner 1 min ago photo taken by me\n",
      "0.0\n",
      "bitcoin mining is absolutely mind blowing jordan peterson\n",
      "0.8999999761581421\n",
      "we are the capital of economic freedom ambassador of el salvador on bitcoin\n",
      "0.0\n",
      "how nice to see underrateddom from gokhshteinmedia just dropping knowledge along with the rest of the staff\n",
      "0.800000011920929\n"
     ]
    }
   ],
   "source": [
    "for tweet in all_tweets_no_urls[:20]:\n",
    "    document = types.Document(content=tweet,type_=language_v1.Document.Type.PLAIN_TEXT)\n",
    "    sentiment_score = client.analyze_sentiment(document=document).document_sentiment.score\n",
    "    print(tweet)\n",
    "    print(sentiment_score)"
   ]
  },
  {
   "cell_type": "code",
   "execution_count": 74,
   "id": "03a1d1e8",
   "metadata": {},
   "outputs": [
    {
     "name": "stdout",
     "output_type": "stream",
     "text": [
      "Opinion générale sur Bitcoin: -0.006000000946223736\n"
     ]
    }
   ],
   "source": [
    "score=0\n",
    "i=0\n",
    "for tweet in all_tweets_no_urls[:200]:\n",
    "    document = types.Document(content=tweet,type_=language_v1.Document.Type.PLAIN_TEXT)\n",
    "    sentiment_score = client.analyze_sentiment(document=document).document_sentiment.score\n",
    "    score+=sentiment_score\n",
    "    #print(score)\n",
    "    i+=1\n",
    "    #print(i)\n",
    "score_final=score/200\n",
    "print('Opinion générale sur Bitcoin',score_final)"
   ]
  },
  {
   "cell_type": "code",
   "execution_count": 1,
   "id": "d43ed1d1",
   "metadata": {},
   "outputs": [],
   "source": [
    "#PARTIE API BITMEX/HITBTC"
   ]
  },
  {
   "cell_type": "code",
   "execution_count": 3,
   "id": "40df5816",
   "metadata": {},
   "outputs": [],
   "source": [
    "#NOS IDENTIFIANTS API\n",
    "API_KEY='vkycdshFDcepfC64ESAmMfRB'\n",
    "API_SECRET='RmUYKgXzKYS3WO2fjWe1McnmPk4CxtLB8BsI260w4ZpZHWis'"
   ]
  },
  {
   "cell_type": "code",
   "execution_count": 5,
   "id": "0c1153e7",
   "metadata": {},
   "outputs": [
    {
     "name": "stderr",
     "output_type": "stream",
     "text": [
      "C:\\Users\\Asus\\anaconda3\\lib\\site-packages\\swagger_spec_validator\\validator20.py:48: SwaggerValidationWarning: Found \"$ref: #/definitions/UserPreferences\" with siblings that will be overwritten. See https://stackoverflow.com/a/48114924 for more information. (path #/definitions/User/properties/preferences)\n",
      "  warnings.warn(\n"
     ]
    }
   ],
   "source": [
    "#ON SE CONNECTE A L'API BITMEX\n",
    "import bitmex\n",
    "import time, requests, json\n",
    "bitmex_api_key = API_KEY\n",
    "bitmex_api_secret = API_SECRET\n",
    "client = bitmex.bitmex(test = True, api_key=bitmex_api_key, api_secret=bitmex_api_secret) "
   ]
  },
  {
   "cell_type": "code",
   "execution_count": null,
   "id": "c6ba95e2",
   "metadata": {},
   "outputs": [],
   "source": [
    "#ON CHOISIT LA CRYPTO ET LE TYPE DE L'ORDRE\n",
    "symbol = 'XBTUSD'\n",
    "ordType = 'Market'"
   ]
  },
  {
   "cell_type": "code",
   "execution_count": null,
   "id": "c2305511",
   "metadata": {},
   "outputs": [],
   "source": [
    "if score_final>0:#Si score_final > 0 : ON ACHETE DU BITCOIN POUR 100$\n",
    "    orderQty_Buy = 100 #VALEUR POSITIVE=ACHAT\n",
    "    client.Order.Order_new(symbol=symbol, ordType=ordType, orderQty=orderQty_Buy).result() # ACHAT\n",
    "else:#Si score_final < 0 : ON VEND DU BITCOIN POUR 100$\n",
    "    orderQty_Sell = -100 #VALEUR NEGATIVE=VENTE\n",
    "    client.Order.Order_new(symbol=symbol, ordType=ordType, orderQty=orderQty_Sell).result() # VENTE"
   ]
  },
  {
   "cell_type": "code",
   "execution_count": null,
   "id": "ee360008",
   "metadata": {},
   "outputs": [],
   "source": [
    "#ON BOUCLE SUR score_final POUR IDENTIFIER QUAND ON FERME NOTRE POSITION\n",
    "if score_final>0:\n",
    "    score=0\n",
    "    i=0\n",
    "    N=200\n",
    "    for tweet in all_tweets_no_urls[:N]:\n",
    "        document = types.Document(content=tweet,type_=language_v1.Document.Type.PLAIN_TEXT)\n",
    "        sentiment_score = client.analyze_sentiment(document=document).document_sentiment.score\n",
    "        score+=sentiment_score\n",
    "        #print(score)\n",
    "        i+=1\n",
    "        #print(i)\n",
    "        score_final2=score/N\n",
    "    if score_final2<score_final:\n",
    "        client.Order.Order_closePosition(symbol=symbol).result() #ON FERME TOUTES NOS POSITIONS\n",
    "#PAREIL DANS L'AUTRE CAS\n",
    "if score_final<=0:\n",
    "    score=0\n",
    "    i=0\n",
    "    N=200\n",
    "    for tweet in all_tweets_no_urls[:N]:\n",
    "        document = types.Document(content=tweet,type_=language_v1.Document.Type.PLAIN_TEXT)\n",
    "        sentiment_score = client.analyze_sentiment(document=document).document_sentiment.score\n",
    "        score+=sentiment_score\n",
    "        #print(score)\n",
    "        i+=1\n",
    "        #print(i)\n",
    "        score_final2=score/N\n",
    "    if score_final2>score_final:\n",
    "        client.Order.Order_closePosition(symbol=symbol).result() #ON FERME TOUTES NOS POSITIONS"
   ]
  },
  {
   "cell_type": "code",
   "execution_count": null,
   "id": "8953eaf4",
   "metadata": {},
   "outputs": [],
   "source": []
  }
 ],
 "metadata": {
  "kernelspec": {
   "display_name": "Python 3 (ipykernel)",
   "language": "python",
   "name": "python3"
  },
  "language_info": {
   "codemirror_mode": {
    "name": "ipython",
    "version": 3
   },
   "file_extension": ".py",
   "mimetype": "text/x-python",
   "name": "python",
   "nbconvert_exporter": "python",
   "pygments_lexer": "ipython3",
   "version": "3.8.12"
  }
 },
 "nbformat": 4,
 "nbformat_minor": 5
}
